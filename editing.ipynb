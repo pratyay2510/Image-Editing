{
 "cells": [
  {
   "cell_type": "code",
   "execution_count": null,
   "id": "ad601bba",
   "metadata": {},
   "outputs": [],
   "source": [
    "from clipseg import TextSegmentationPipeline, create_pipe\n",
    "\n",
    "import os\n",
    "from PIL import Image\n",
    "import matplotlib.pyplot as plt"
   ]
  },
  {
   "cell_type": "code",
   "execution_count": null,
   "id": "fde9cd70",
   "metadata": {},
   "outputs": [],
   "source": [
    "# Image\n",
    "idx = 1\n",
    "base = './Input'\n",
    "filenames = os.listdir(base)\n",
    "img_file = os.path.join(base,filenames[idx])\n",
    "img = Image.open(img_file).convert('RGB')\n",
    "width,height = img.size\n",
    "\n",
    "# ------------------Where to edit------------------\n",
    "area = 'pants.'\n",
    "\n",
    "#-------------------what to edit-------------------\n",
    "what = 'make the pants black jeans.'\n",
    "\n",
    "# Segmentation \n",
    "pipeline = TextSegmentationPipeline()\n",
    "mask = pipeline(img_file, area)[-1]\n",
    "\n",
    "#Inpainting pipeline\n",
    "inpainting_pipe = create_pipe(model='local_sd2_inpaint')\n",
    "\n",
    "result = inpainting_pipe(\n",
    "        prompt=what,\n",
    "        image=img,\n",
    "        mask_image=mask,\n",
    "        num_inference_steps=150,\n",
    "        guidance_scale=8.7,\n",
    "    ).images[0]\n",
    "result = result.resize((width, height))\n",
    "\n",
    "\n",
    "fig, axes = plt.subplots(1, 2, figsize=(10, 5))\n",
    "axes[0].imshow(img)\n",
    "axes[0].imshow(mask, cmap='jet', alpha=0.5)\n",
    "axes[0].set_title('Segmented mask')\n",
    "axes[0].axis(\"off\")\n",
    "\n",
    "axes[1].imshow(result)\n",
    "axes[1].set_title('Edited')\n",
    "axes[1].axis(\"off\")\n",
    "\n",
    "plt.tight_layout()\n",
    "plt.show()\n"
   ]
  }
 ],
 "metadata": {
  "language_info": {
   "name": "python"
  }
 },
 "nbformat": 4,
 "nbformat_minor": 5
}
